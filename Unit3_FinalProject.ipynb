{
  "nbformat": 4,
  "nbformat_minor": 0,
  "metadata": {
    "kernelspec": {
      "display_name": "Python 3",
      "language": "python",
      "name": "python3"
    },
    "language_info": {
      "codemirror_mode": {
        "name": "ipython",
        "version": 3
      },
      "file_extension": ".py",
      "mimetype": "text/x-python",
      "name": "python",
      "nbconvert_exporter": "python",
      "pygments_lexer": "ipython3",
      "version": "3.7.6"
    },
    "colab": {
      "name": "Unit3_FinalProject.ipynb",
      "provenance": [],
      "collapsed_sections": [],
      "include_colab_link": true
    }
  },
  "cells": [
    {
      "cell_type": "markdown",
      "metadata": {
        "id": "view-in-github",
        "colab_type": "text"
      },
      "source": [
        "<a href=\"https://colab.research.google.com/github/TanzinaS/Brigde-up/blob/master/Unit3_FinalProject.ipynb\" target=\"_parent\"><img src=\"https://colab.research.google.com/assets/colab-badge.svg\" alt=\"Open In Colab\"/></a>"
      ]
    },
    {
      "cell_type": "markdown",
      "metadata": {
        "id": "-aDkg8IYpfxS",
        "colab_type": "text"
      },
      "source": [
        "# Making a CMD for your Star Cluster\n",
        "\n",
        "This notebook introduces a few commands that you'll need to make the Color Magnitude Diagram for your star cluster. You can also use the cells below to write code for your unit project."
      ]
    },
    {
      "cell_type": "markdown",
      "metadata": {
        "id": "cdlCFoIYpfxT",
        "colab_type": "text"
      },
      "source": [
        "## .loc[ ] indexing"
      ]
    },
    {
      "cell_type": "code",
      "metadata": {
        "id": "CcUJ8BQFpfxU",
        "colab_type": "code",
        "colab": {}
      },
      "source": [
        "import pandas as pd"
      ],
      "execution_count": null,
      "outputs": []
    },
    {
      "cell_type": "code",
      "metadata": {
        "id": "1Wo4VNL8pfxX",
        "colab_type": "code",
        "colab": {
          "base_uri": "https://localhost:8080/",
          "height": 263
        },
        "outputId": "83627cc3-29b6-48a8-d333-845672918d2a"
      },
      "source": [
        "# Here we create a sample dataframe\n",
        "sample_df = pd.DataFrame({\"Smartphone\": [\"iPhone 11\", \"Samsung Galaxy S20\", \"Google Pixel 4\", \"LG V60\", \"Nokia 9\", \"Sony Xperia 1\", \"iPhone SE\"], \"Price\": [700,1000,800,700,450,1000,399]})\n",
        "sample_df"
      ],
      "execution_count": null,
      "outputs": [
        {
          "output_type": "execute_result",
          "data": {
            "text/html": [
              "<div>\n",
              "<style scoped>\n",
              "    .dataframe tbody tr th:only-of-type {\n",
              "        vertical-align: middle;\n",
              "    }\n",
              "\n",
              "    .dataframe tbody tr th {\n",
              "        vertical-align: top;\n",
              "    }\n",
              "\n",
              "    .dataframe thead th {\n",
              "        text-align: right;\n",
              "    }\n",
              "</style>\n",
              "<table border=\"1\" class=\"dataframe\">\n",
              "  <thead>\n",
              "    <tr style=\"text-align: right;\">\n",
              "      <th></th>\n",
              "      <th>Smartphone</th>\n",
              "      <th>Price</th>\n",
              "    </tr>\n",
              "  </thead>\n",
              "  <tbody>\n",
              "    <tr>\n",
              "      <th>0</th>\n",
              "      <td>iPhone 11</td>\n",
              "      <td>700</td>\n",
              "    </tr>\n",
              "    <tr>\n",
              "      <th>1</th>\n",
              "      <td>Samsung Galaxy S20</td>\n",
              "      <td>1000</td>\n",
              "    </tr>\n",
              "    <tr>\n",
              "      <th>2</th>\n",
              "      <td>Google Pixel 4</td>\n",
              "      <td>800</td>\n",
              "    </tr>\n",
              "    <tr>\n",
              "      <th>3</th>\n",
              "      <td>LG V60</td>\n",
              "      <td>700</td>\n",
              "    </tr>\n",
              "    <tr>\n",
              "      <th>4</th>\n",
              "      <td>Nokia 9</td>\n",
              "      <td>450</td>\n",
              "    </tr>\n",
              "    <tr>\n",
              "      <th>5</th>\n",
              "      <td>Sony Xperia 1</td>\n",
              "      <td>1000</td>\n",
              "    </tr>\n",
              "    <tr>\n",
              "      <th>6</th>\n",
              "      <td>iPhone SE</td>\n",
              "      <td>399</td>\n",
              "    </tr>\n",
              "  </tbody>\n",
              "</table>\n",
              "</div>"
            ],
            "text/plain": [
              "           Smartphone  Price\n",
              "0           iPhone 11    700\n",
              "1  Samsung Galaxy S20   1000\n",
              "2      Google Pixel 4    800\n",
              "3              LG V60    700\n",
              "4             Nokia 9    450\n",
              "5       Sony Xperia 1   1000\n",
              "6           iPhone SE    399"
            ]
          },
          "metadata": {
            "tags": []
          },
          "execution_count": 15
        }
      ]
    },
    {
      "cell_type": "markdown",
      "metadata": {
        "id": "MPN4-t4upfxa",
        "colab_type": "text"
      },
      "source": [
        "You can use the .loc index method to select all the items in one column which have a particular value in the second column. For example, we may want to select all items from the \"Smartphone\" column that have a value of 700 in the \"Price\" column.\n",
        "\n",
        "\n",
        "Follow along with the **live coding activity** to see how this works."
      ]
    },
    {
      "cell_type": "code",
      "metadata": {
        "id": "fu9h0yPKpfxb",
        "colab_type": "code",
        "colab": {}
      },
      "source": [
        "# This code selects all values from the first column, \"Smartphone\" where the value on that same row in the second column, \"Price\" is equal to 700\n"
      ],
      "execution_count": null,
      "outputs": []
    },
    {
      "cell_type": "markdown",
      "metadata": {
        "id": "CIYEkA3Wpfxd",
        "colab_type": "text"
      },
      "source": [
        "Now you try! Let's say you want to view some more expensive phones. Select all the values from the \"Smartphone\" column where the value on that same row in the \"Price\" column is equal to 1000."
      ]
    },
    {
      "cell_type": "code",
      "metadata": {
        "id": "O0PvGdTNpfxd",
        "colab_type": "code",
        "colab": {}
      },
      "source": [
        ""
      ],
      "execution_count": null,
      "outputs": []
    },
    {
      "cell_type": "markdown",
      "metadata": {
        "id": "jzvDK1QEpfxg",
        "colab_type": "text"
      },
      "source": [
        "Let's say you definitely want an iPhone of some sort, but you want to see just iPhone prices. Now select all the values from the \"Price\" column where the value on that same row in the \"Smartphone\" column contains the word \"iPhone\"."
      ]
    },
    {
      "cell_type": "code",
      "metadata": {
        "id": "bqiRqwcXpfxg",
        "colab_type": "code",
        "colab": {}
      },
      "source": [
        ""
      ],
      "execution_count": null,
      "outputs": []
    },
    {
      "cell_type": "markdown",
      "metadata": {
        "id": "uMfMtB_zpr3h",
        "colab_type": "text"
      },
      "source": [
        "Let's say you're on a budget and don't want to spend more than $700 on a phone. Select all the values from the \"Smartphone\" column where the value on that same row in the \"Price\" column is less than or equal to 700."
      ]
    },
    {
      "cell_type": "code",
      "metadata": {
        "id": "7TGx3Hxopq8Z",
        "colab_type": "code",
        "colab": {}
      },
      "source": [
        ""
      ],
      "execution_count": null,
      "outputs": []
    },
    {
      "cell_type": "markdown",
      "metadata": {
        "id": "utqMyj5_pfxj",
        "colab_type": "text"
      },
      "source": [
        "#### Note: You can store these selected values in a variable, just like you've done with entire columns!"
      ]
    },
    {
      "cell_type": "markdown",
      "metadata": {
        "id": "GP9SqxKvpfxj",
        "colab_type": "text"
      },
      "source": [
        "## Finding absolute magnitude"
      ]
    },
    {
      "cell_type": "markdown",
      "metadata": {
        "id": "JjPICJkepfxj",
        "colab_type": "text"
      },
      "source": [
        "You will need to convert \"G\" to absolute magnitude for your CMD.\n",
        "\n",
        "Look in the dataset for distance. Using G and distance, you can calculate absolute magnitude using the following equation:\n",
        "\n",
        "absolute magnitude = G - 5 * log(distance) + 5"
      ]
    },
    {
      "cell_type": "code",
      "metadata": {
        "id": "7xrdzzqdpfxk",
        "colab_type": "code",
        "colab": {
          "base_uri": "https://localhost:8080/",
          "height": 35
        },
        "outputId": "3888ae35-554b-4cba-815f-b7e5315d519e"
      },
      "source": [
        "# You will need to import numpy\n",
        "import numpy as np\n",
        "df= pd.read_csv(\"/content/drive/My Drive/Colab Notebooks/oh_table.csv\")\n",
        "import warnings\n",
        "warnings.simplefilter(action='ignore', category=FutureWarning)\n",
        "print('x' in np.arange(5))   #returns False, without Warning\n",
        "import matplotlib.pyplot as plt\n",
        "import matplotlib.colors as mpl\n"
      ],
      "execution_count": null,
      "outputs": [
        {
          "output_type": "stream",
          "text": [
            "False\n"
          ],
          "name": "stdout"
        }
      ]
    },
    {
      "cell_type": "code",
      "metadata": {
        "id": "l0r-tA6lLzAW",
        "colab_type": "code",
        "colab": {
          "base_uri": "https://localhost:8080/",
          "height": 35
        },
        "outputId": "eb2412dd-fe30-42ff-bdd6-b5622d73cce0"
      },
      "source": [
        "from google.colab import drive\n",
        "drive.mount('/content/drive')"
      ],
      "execution_count": null,
      "outputs": [
        {
          "output_type": "stream",
          "text": [
            "Drive already mounted at /content/drive; to attempt to forcibly remount, call drive.mount(\"/content/drive\", force_remount=True).\n"
          ],
          "name": "stdout"
        }
      ]
    },
    {
      "cell_type": "code",
      "metadata": {
        "id": "txagbSwqMW9p",
        "colab_type": "code",
        "colab": {}
      },
      "source": [
        "df.head()\n",
        "pleiades = df.loc[df[\"group_id\"] == \"0\"]"
      ],
      "execution_count": null,
      "outputs": []
    },
    {
      "cell_type": "code",
      "metadata": {
        "id": "_11KBn7Epfxn",
        "colab_type": "code",
        "colab": {}
      },
      "source": [
        "# You can use this function in your code to find the log of distance:\n",
        "mag= df[\"G\"]-5 * np.log10(df[\"distance\"])+5\n",
        "# np.log10()\n",
        "distance= df[\"distance\"]"
      ],
      "execution_count": null,
      "outputs": []
    },
    {
      "cell_type": "markdown",
      "metadata": {
        "id": "66bzd67ipfxp",
        "colab_type": "text"
      },
      "source": [
        "### Your first task is to create a Color Magnitude Diagram for your star cluster\n",
        "You can use as many of the cells below as you need. You can add new cells with the \"+\" button."
      ]
    },
    {
      "cell_type": "code",
      "metadata": {
        "id": "Q5rXuczQpfxq",
        "colab_type": "code",
        "colab": {
          "base_uri": "https://localhost:8080/",
          "height": 295
        },
        "outputId": "88601b7e-6fba-4e29-e81b-0a2369da9d59"
      },
      "source": [
        "cm = plt.cm.get_cmap(\"RdYlBu\")# This is the colormap we'll use for our data points. Note: _r reverses the colormap\n",
        "plt.scatter(mag, distance, c=distance, s=35, cmap=cm, norm=mpl.LogNorm()) # This plots all our points as a scatterplot\n",
        "plt.yscale('log')\n",
        "plt.ylim([0.000001, 1000000])\n",
        "plt.xlabel('Magnitude')\n",
        "plt.ylabel('Brightness (Suns)')\n",
        "plt.title('Magnitude Final')\n",
        "plt.gca().invert_xaxis() # This inverts the x axis so that the hottest stars are on the left.\n",
        "plt.show()"
      ],
      "execution_count": null,
      "outputs": [
        {
          "output_type": "display_data",
          "data": {
            "image/png": "[encoded data removed]",
            "text/plain": [
              "<Figure size 432x288 with 1 Axes>"
            ]
          },
          "metadata": {
            "tags": [],
            "needs_background": "light"
          }
        }
      ]
    },
    {
      "cell_type": "code",
      "metadata": {
        "id": "NASmTxRTpfxu",
        "colab_type": "code",
        "colab": {}
      },
      "source": [
        ""
      ],
      "execution_count": null,
      "outputs": []
    },
    {
      "cell_type": "code",
      "metadata": {
        "id": "WkL3pYhOpfxw",
        "colab_type": "code",
        "colab": {}
      },
      "source": [
        ""
      ],
      "execution_count": null,
      "outputs": []
    },
    {
      "cell_type": "code",
      "metadata": {
        "id": "EWaGv109pfxy",
        "colab_type": "code",
        "colab": {}
      },
      "source": [
        ""
      ],
      "execution_count": null,
      "outputs": []
    },
    {
      "cell_type": "code",
      "metadata": {
        "id": "BhmpitgKpfx0",
        "colab_type": "code",
        "colab": {}
      },
      "source": [
        ""
      ],
      "execution_count": null,
      "outputs": []
    },
    {
      "cell_type": "code",
      "metadata": {
        "id": "F5I3F1Rnpfx2",
        "colab_type": "code",
        "colab": {}
      },
      "source": [
        ""
      ],
      "execution_count": null,
      "outputs": []
    },
    {
      "cell_type": "markdown",
      "metadata": {
        "id": "BgLYth7Xpfx4",
        "colab_type": "text"
      },
      "source": [
        "### Coding Challenge 1: Add the sun to your color magnitude diagram"
      ]
    },
    {
      "cell_type": "code",
      "metadata": {
        "id": "LlroU_R9pfx4",
        "colab_type": "code",
        "colab": {}
      },
      "source": [
        ""
      ],
      "execution_count": null,
      "outputs": []
    },
    {
      "cell_type": "markdown",
      "metadata": {
        "id": "_tG61iyepfx6",
        "colab_type": "text"
      },
      "source": [
        "### Coding Challenge 2: Add a colormap to your diagram"
      ]
    },
    {
      "cell_type": "code",
      "metadata": {
        "id": "M-_pH6SLpfx7",
        "colab_type": "code",
        "colab": {}
      },
      "source": [
        ""
      ],
      "execution_count": null,
      "outputs": []
    },
    {
      "cell_type": "markdown",
      "metadata": {
        "id": "IuWfhZKKpfx9",
        "colab_type": "text"
      },
      "source": [
        "### Coding Challenge 3: Create histograms for the absolute magnitude and color of your star cluster"
      ]
    },
    {
      "cell_type": "code",
      "metadata": {
        "id": "1uOX064Vpfx9",
        "colab_type": "code",
        "colab": {}
      },
      "source": [
        ""
      ],
      "execution_count": null,
      "outputs": []
    }
  ]
}