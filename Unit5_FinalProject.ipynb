{
  "nbformat": 4,
  "nbformat_minor": 0,
  "metadata": {
    "colab": {
      "name": "Unit5_FinalProject.ipynb",
      "provenance": [],
      "collapsed_sections": [],
      "include_colab_link": true
    },
    "kernelspec": {
      "name": "python3",
      "display_name": "Python 3"
    }
  },
  "cells": [
    {
      "cell_type": "markdown",
      "metadata": {
        "id": "view-in-github",
        "colab_type": "text"
      },
      "source": [
        "<a href=\"https://colab.research.google.com/github/TanzinaS/Brigde-up/blob/master/Unit5_FinalProject.ipynb\" target=\"_parent\"><img src=\"https://colab.research.google.com/assets/colab-badge.svg\" alt=\"Open In Colab\"/></a>"
      ]
    },
    {
      "cell_type": "code",
      "metadata": {
        "id": "XgAZ3SauRt4f",
        "colab_type": "code",
        "colab": {}
      },
      "source": [
        "import pandas as pd\n",
        "import matplotlib.pyplot as plt\n",
        "import numpy as np"
      ],
      "execution_count": null,
      "outputs": []
    },
    {
      "cell_type": "code",
      "metadata": {
        "id": "OwI0imgSSZ0T",
        "colab_type": "code",
        "colab": {}
      },
      "source": [
        "df = pd.read_csv(\"/content/drive/My Drive/Colab Notebooks/BridgeUP_year1/Unit5_PaleoNeuroscience/bird_dino_data.csv\")"
      ],
      "execution_count": null,
      "outputs": []
    },
    {
      "cell_type": "code",
      "metadata": {
        "id": "aG7QRddqT2m4",
        "colab_type": "code",
        "colab": {
          "base_uri": "https://localhost:8080/",
          "height": 200
        },
        "outputId": "d86a42ce-9f83-4f5f-871e-249f4e51a4ed"
      },
      "source": [
        "bird = df.loc[df[\"Bird vs Dino\"] == \"B\"]\n",
        "dino = df.loc[df[\"Bird vs Dino\"] == \"D\"]\n",
        "bird.head()"
      ],
      "execution_count": null,
      "outputs": [
        {
          "output_type": "execute_result",
          "data": {
            "text/html": [
              "<div>\n",
              "<style scoped>\n",
              "    .dataframe tbody tr th:only-of-type {\n",
              "        vertical-align: middle;\n",
              "    }\n",
              "\n",
              "    .dataframe tbody tr th {\n",
              "        vertical-align: top;\n",
              "    }\n",
              "\n",
              "    .dataframe thead th {\n",
              "        text-align: right;\n",
              "    }\n",
              "</style>\n",
              "<table border=\"1\" class=\"dataframe\">\n",
              "  <thead>\n",
              "    <tr style=\"text-align: right;\">\n",
              "      <th></th>\n",
              "      <th>Species ID</th>\n",
              "      <th>Bird vs Dino</th>\n",
              "      <th>Body Mass (kg)</th>\n",
              "      <th>Olfactory bulbs (cm3)</th>\n",
              "      <th>Cerebrum (cm3)</th>\n",
              "      <th>Optic Lobes (cm3)</th>\n",
              "      <th>Cerebellum (cm3)</th>\n",
              "      <th>Brain Stem (cm3)</th>\n",
              "      <th>Brain Volume (cm3)</th>\n",
              "    </tr>\n",
              "  </thead>\n",
              "  <tbody>\n",
              "    <tr>\n",
              "      <th>0</th>\n",
              "      <td>1</td>\n",
              "      <td>B</td>\n",
              "      <td>0.02</td>\n",
              "      <td>0.009</td>\n",
              "      <td>1.53</td>\n",
              "      <td>0.20</td>\n",
              "      <td>0.16</td>\n",
              "      <td>0.06</td>\n",
              "      <td>1.96</td>\n",
              "    </tr>\n",
              "    <tr>\n",
              "      <th>1</th>\n",
              "      <td>2</td>\n",
              "      <td>B</td>\n",
              "      <td>1.26</td>\n",
              "      <td>0.006</td>\n",
              "      <td>16.81</td>\n",
              "      <td>2.84</td>\n",
              "      <td>1.70</td>\n",
              "      <td>0.68</td>\n",
              "      <td>22.04</td>\n",
              "    </tr>\n",
              "    <tr>\n",
              "      <th>2</th>\n",
              "      <td>3</td>\n",
              "      <td>B</td>\n",
              "      <td>2.18</td>\n",
              "      <td>0.026</td>\n",
              "      <td>11.08</td>\n",
              "      <td>1.95</td>\n",
              "      <td>0.89</td>\n",
              "      <td>1.15</td>\n",
              "      <td>15.10</td>\n",
              "    </tr>\n",
              "    <tr>\n",
              "      <th>4</th>\n",
              "      <td>5</td>\n",
              "      <td>B</td>\n",
              "      <td>0.01</td>\n",
              "      <td>0.003</td>\n",
              "      <td>1.57</td>\n",
              "      <td>0.20</td>\n",
              "      <td>0.34</td>\n",
              "      <td>0.08</td>\n",
              "      <td>2.19</td>\n",
              "    </tr>\n",
              "    <tr>\n",
              "      <th>7</th>\n",
              "      <td>8</td>\n",
              "      <td>B</td>\n",
              "      <td>0.90</td>\n",
              "      <td>0.234</td>\n",
              "      <td>5.95</td>\n",
              "      <td>0.99</td>\n",
              "      <td>0.96</td>\n",
              "      <td>0.55</td>\n",
              "      <td>8.68</td>\n",
              "    </tr>\n",
              "  </tbody>\n",
              "</table>\n",
              "</div>"
            ],
            "text/plain": [
              "   Species ID Bird vs Dino  ...  Brain Stem (cm3)  Brain Volume (cm3)\n",
              "0           1            B  ...              0.06                1.96\n",
              "1           2            B  ...              0.68               22.04\n",
              "2           3            B  ...              1.15               15.10\n",
              "4           5            B  ...              0.08                2.19\n",
              "7           8            B  ...              0.55                8.68\n",
              "\n",
              "[5 rows x 9 columns]"
            ]
          },
          "metadata": {
            "tags": []
          },
          "execution_count": 28
        }
      ]
    },
    {
      "cell_type": "code",
      "metadata": {
        "id": "ksCXAEdcT3vv",
        "colab_type": "code",
        "colab": {}
      },
      "source": [
        "def BB(animal, brain, body): #finds brain to body ratio\n",
        "  brain = animal[brain]\n",
        "  body = animal[body]\n",
        "  average = (brain/body)/1000\n",
        "  return average.mean()"
      ],
      "execution_count": null,
      "outputs": []
    },
    {
      "cell_type": "code",
      "metadata": {
        "id": "buUVCbc7WxvF",
        "colab_type": "code",
        "colab": {
          "base_uri": "https://localhost:8080/",
          "height": 52
        },
        "outputId": "4796d41f-c687-41c2-f86e-ac7a5fe51dc4"
      },
      "source": [
        "bird_BBratio = BB(bird, \"Brain Volume (cm3)\", \"Body Mass (kg)\")\n",
        "print(\"bird\", bird_BBratio)\n",
        "dino_BBratio = BB(dino, \"Brain Volume (cm3)\", \"Body Mass (kg)\")\n",
        "print(\"dino\", dino_BBratio)"
      ],
      "execution_count": null,
      "outputs": [
        {
          "output_type": "stream",
          "text": [
            "bird 0.047832283820074345\n",
            "dino 0.0016106496539985663\n"
          ],
          "name": "stdout"
        }
      ]
    },
    {
      "cell_type": "code",
      "metadata": {
        "id": "C1_2xiIPF8pc",
        "colab_type": "code",
        "colab": {
          "base_uri": "https://localhost:8080/",
          "height": 286
        },
        "outputId": "3ce44c0e-9579-4a88-d1b2-f8402deef6eb"
      },
      "source": [
        "name = [\"dinosaurs\", \"bird\"]\n",
        "data = [dino_BBratio, bird_BBratio]\n",
        "plt.bar(name, data)"
      ],
      "execution_count": null,
      "outputs": [
        {
          "output_type": "execute_result",
          "data": {
            "text/plain": [
              "<BarContainer object of 2 artists>"
            ]
          },
          "metadata": {
            "tags": []
          },
          "execution_count": 32
        },
        {
          "output_type": "display_data",
          "data": {
            "image/png": "[encoded data removed]",
            "text/plain": [
              "<Figure size 432x288 with 1 Axes>"
            ]
          },
          "metadata": {
            "tags": [],
            "needs_background": "light"
          }
        }
      ]
    },
    {
      "cell_type": "code",
      "metadata": {
        "id": "wAjzAQ2qW9-b",
        "colab_type": "code",
        "colab": {}
      },
      "source": [
        "def CB(animal): #cerebrum to whole brain ratio\n",
        "  cerebrum = animal[\"Cerebrum (cm3)\"]\n",
        "  whole_brain = animal[\"Brain Volume (cm3)\"]\n",
        "  brain_ratio = cerebrum/whole_brain\n",
        "  return brain_ratio.mean()"
      ],
      "execution_count": null,
      "outputs": []
    },
    {
      "cell_type": "code",
      "metadata": {
        "id": "wzZOX6rhZi5_",
        "colab_type": "code",
        "colab": {
          "base_uri": "https://localhost:8080/",
          "height": 52
        },
        "outputId": "cab14f48-9b9e-436f-d8bc-a67ace78fd80"
      },
      "source": [
        "bird_CBratio = CB(bird)\n",
        "print(\"bird\", bird_CBratio)\n",
        "dino_CBratio = CB(dino)\n",
        "print(\"dino\", dino_CBratio)"
      ],
      "execution_count": null,
      "outputs": [
        {
          "output_type": "stream",
          "text": [
            "bird 0.6649507745281171\n",
            "dino 0.4695339305450895\n"
          ],
          "name": "stdout"
        }
      ]
    },
    {
      "cell_type": "code",
      "metadata": {
        "id": "Vp436WxSZtlt",
        "colab_type": "code",
        "colab": {}
      },
      "source": [
        "def prediction(femur_l, brain_v, cereb_w):\n",
        "  body_mass = 10**(3.1854*np.log10(femur_l)-3.184)/1000 #calculates body mass using femur length\n",
        "\n",
        "  BB_ratio = (brain_v/body_mass)/1000 #calculates brain to body mass ratio\n",
        "  CB_ratio = cereb_w/brain_v #calculates cerebrum to whole brain ratio\n",
        "  diff_BBratio_bird = BB_ratio - bird_BBratio\n",
        "  diff_CBratio_bird = CB_ratio - bird_CBratio\n",
        "  diff_BBratio_dino = BB_ratio - dino_BBratio\n",
        "  diff_CBratio_dino = CB_ratio - dino_CBratio\n",
        "\n",
        "  if diff_BBratio_bird < diff_BBratio_dino:\n",
        "    answer = \"bird\"\n",
        "  elif diff_BBratio_bird > diff_BBratio_dino:\n",
        "    answer = \"dino\"\n",
        "\n",
        "  if diff_CBratio_bird > diff_CBratio_dino:\n",
        "    answer_2 = \"dino\"\n",
        "  elif diff_CBratio_bird < diff_CBratio_dino:\n",
        "    answer_2 = \"bird\"\n",
        "  \n",
        "  return answer, answer_2"
      ],
      "execution_count": null,
      "outputs": []
    },
    {
      "cell_type": "code",
      "metadata": {
        "id": "fuhL8Kq6EuHI",
        "colab_type": "code",
        "colab": {
          "base_uri": "https://localhost:8080/",
          "height": 35
        },
        "outputId": "e71c37e3-e399-4822-a8eb-59c5688d887c"
      },
      "source": [
        "prediction(70, 1.44, 0.6)"
      ],
      "execution_count": null,
      "outputs": [
        {
          "output_type": "execute_result",
          "data": {
            "text/plain": [
              "('bird', 'bird')"
            ]
          },
          "metadata": {
            "tags": []
          },
          "execution_count": 45
        }
      ]
    },
    {
      "cell_type": "code",
      "metadata": {
        "id": "b6Jdcvs7HaDU",
        "colab_type": "code",
        "colab": {}
      },
      "source": [
        ""
      ],
      "execution_count": null,
      "outputs": []
    }
  ]
}