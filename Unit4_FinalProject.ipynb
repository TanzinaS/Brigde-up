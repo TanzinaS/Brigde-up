{
  "nbformat": 4,
  "nbformat_minor": 0,
  "metadata": {
    "kernelspec": {
      "display_name": "Python 3",
      "language": "python",
      "name": "python3"
    },
    "language_info": {
      "codemirror_mode": {
        "name": "ipython",
        "version": 3
      },
      "file_extension": ".py",
      "mimetype": "text/x-python",
      "name": "python",
      "nbconvert_exporter": "python",
      "pygments_lexer": "ipython3",
      "version": "3.7.6"
    },
    "colab": {
      "name": "Unit4_FinalProject.ipynb",
      "provenance": [],
      "collapsed_sections": [],
      "include_colab_link": true
    }
  },
  "cells": [
    {
      "cell_type": "markdown",
      "metadata": {
        "id": "view-in-github",
        "colab_type": "text"
      },
      "source": [
        "<a href=\"https://colab.research.google.com/github/TanzinaS/Brigde-up/blob/master/Unit4_FinalProject.ipynb\" target=\"_parent\"><img src=\"https://colab.research.google.com/assets/colab-badge.svg\" alt=\"Open In Colab\"/></a>"
      ]
    },
    {
      "cell_type": "markdown",
      "metadata": {
        "id": "LB1yGDW7NjCW",
        "colab_type": "text"
      },
      "source": [
        "# Unit 4 Final Projects: Calculating evolutionary distance\n",
        "\n",
        "In this notebook you will compare the sequence of a particular gene from 3 different species to find out which two are most closely related. \n",
        "\n",
        "You will need to do the following:\n",
        "1. Open and read in your files\n",
        "2. Decide which sequences to compare (DNA, RNA, or protein), (you may have to look at all of them)\n",
        "3. Write code that prints out the percent similarity of each pair of sequences\n",
        "\n",
        " "
      ]
    },
    {
      "cell_type": "code",
      "metadata": {
        "id": "fkIUxVO8NjCZ",
        "colab_type": "code",
        "colab": {}
      },
      "source": [
        "whale= open(\"/content/drive/My Drive/Colab Notebooks/1a_CSN2_DNA_txt.txt\").read()\n",
        "hippo= open(\"/content/drive/My Drive/Colab Notebooks/1b_CSN2_DNA_txt.txt\").read()\n",
        "boar= open(\"/content/drive/My Drive/Colab Notebooks/1c_CSN2_DNA.txt\").read()"
      ],
      "execution_count": null,
      "outputs": []
    },
    {
      "cell_type": "code",
      "metadata": {
        "id": "7_fp-LQ6ORBS",
        "colab_type": "code",
        "colab": {
          "base_uri": "https://localhost:8080/",
          "height": 34
        },
        "outputId": "3462fe61-eca5-4cf4-fdbf-1d80775d70bd"
      },
      "source": [
        "from google.colab import drive\n",
        "drive.mount('/content/drive')"
      ],
      "execution_count": null,
      "outputs": [
        {
          "output_type": "stream",
          "text": [
            "Drive already mounted at /content/drive; to attempt to forcibly remount, call drive.mount(\"/content/drive\", force_remount=True).\n"
          ],
          "name": "stdout"
        }
      ]
    },
    {
      "cell_type": "code",
      "metadata": {
        "id": "86ikdynONjCe",
        "colab_type": "code",
        "colab": {
          "base_uri": "https://localhost:8080/",
          "height": 90
        },
        "outputId": "5f23271e-0742-4ecf-bf86-7712db444d67"
      },
      "source": [
        "trDict = {\"A\":\"U\", \"T\":\"A\", \"G\":\"C\", \"C\":\"G\"}\n",
        "RNAwhale = \"\"\n",
        "RNAhippo = \"\"\n",
        "RNAboar = \"\"\n",
        "\n",
        "for i in whale:\n",
        "    RNAwhale += trDict[i]\n",
        "    \n",
        "for i in hippo:\n",
        "    RNAhippo += trDict[i]\n",
        "\n",
        "for i in boar:\n",
        "    RNAboar += trDict[i]\n",
        "\n",
        "print(RNAwhale)\n",
        "print(RNAhippo)\n",
        "print(RNAboar)"
      ],
      "execution_count": null,
      "outputs": [
        {
          "output_type": "stream",
          "text": [
            "UUAGGGGUUUCGAUUCCUCUGAUAGGAAGGAUUCGUAUUUCUUUACGGGAAGGGAUAUAGAGGUCAUCUGGGAAAUAACUUUCGGUCUCGGACGGAGAGUGACUAGAACUUUUAGACGUGGAAGGAGACAGAGACGAGGUCAGGAACUACGUGGUCGGAGGGGUCGGAGAAGGAGGAUGGGGGUACAAAGGAGGAGUCGGGGACGGCAGGGAAAGAGUCGGGUUUCAGGACGGAUAAGGGGUCGUUCACCACGGGGUGUAGGUCUCUGUAUACGGGUAGGU\n",
            "UCAGGGGUUUCGUUUCCUCUGAUAGGAAGGAUUCGUAUUUCUUUACGGGAAGAGAUUUAGAGGUCAUCUCGGGAAAUGACUUUCCGUCUCGGACUGAGAAUGACUAGAACUUUUAGACGUGAAGGGGACGGAGACGAAGUCAGGACCUACGUGGGUGAAGGGUCGGAGAAAGAGGAUGGGAGUACAAAGGAAGAGUCGGGAACGUCAGGGAAGGUGUCGGGCAAAGAGUCGGGGUUCGGGACGGAUAAGGGGUCGUUCACCAUGGGAUGGGUGUCUCUCU\n",
            "UCAGGGGUUUAACAGGUUUUAAAUUAACCCGUAUAAAGUUAUUGUUUCCGUUGAUUAUAUUAUCACGUGUUCGUUAUAGAAACUUACCCGUGAAGUGGUUUCUCCAAUAAAAUUAACAGUUAUUUAUAUACUUUUCUACAAGUUAUGGUAAUAAAGAGACCUUUUACGUUCAAUUUUUAUGGUCUAUAGUACUGUGUUGGAGGUCUUAUCGACUUUACUCUUCUUAACCAUUUUGGUUCAUAAAUGUUUUUAUUCGUUUGACUUAUUUACGAUCCAUUACAA\n"
          ],
          "name": "stdout"
        }
      ]
    },
    {
      "cell_type": "code",
      "metadata": {
        "id": "_HT0ocdQNjDA",
        "colab_type": "code",
        "colab": {}
      },
      "source": [
        "codonDict = {\"UUU\":\"F\",\"UUC\":\"F\",\"UUA\":\"L\",\"UUG\":\"L\", \"CUU\":\"L\",\"CUC\":\"L\", \n",
        "             \"CUA\":\"L\",\"CUG\":\"L\",\"AUU\":\"I\",\"AUC\":\"I\",\"AUA\":\"I\",\"AUG\":\"M\",\n",
        "             \"GUU\":\"V\",\"GUC\":\"V\",\"GUA\":\"V\",\"GUG\":\"V\",\"UCU\":\"S\",\"UCC\":\"S\",\n",
        "             \"UCA\":\"S\",\"UCG\":\"S\",\"CCU\":\"P\",\"CCC\":\"P\",\"CCA\":\"P\",\"CCG\":\"P\",\n",
        "             \"ACU\":\"T\",\"ACC\":\"T\",\"ACA\":\"T\",\"ACG\":\"T\",\"GCU\":\"A\",\"GCC\":\"A\",\n",
        "             \"GCA\":\"A\",\"GCG\":\"A\",\"UAU\":\"Y\",\"UAC\":\"Y\",\"UAA\":\"STOP\",\"UAG\":\"STOP\",\n",
        "             \"UGA\":\"STOP\",\"CAU\":\"H\",\"CAC\":\"H\",\"CAA\":\"Q\",\"CAG\":\"Q\",\"AAU\":\"N\",\n",
        "             \"AAC\":\"N\",\"AAA\":\"K\",\"AAG\":\"K\",\"GAU\":\"D\",\"GAC\":\"D\",\"GAA\":\"E\",\n",
        "             \"GAG\":\"E\",\"UGU\":\"C\",\"UGC\":\"C\",\"UGG\":\"W\",\"CGU\":\"R\",\"CGC\":\"R\",\n",
        "             \"CGA\":\"R\",\"CGG\":\"R\",\"AGU\":\"S\",\"AGC\":\"S\",\"AGA\":\"R\",\"AGG\":\"R\",\n",
        "             \"GGU\":\"G\",\"GGC\":\"G\",\"GGA\":\"G\",\"GGG\":\"G\"}"
      ],
      "execution_count": null,
      "outputs": []
    },
    {
      "cell_type": "code",
      "metadata": {
        "id": "kklqyc5RNjDM",
        "colab_type": "code",
        "colab": {}
      },
      "source": [
        "proteinwhale = \"\" #we will be adding protein sequences to this\n",
        "codon = \"\" #keeps track of a block of 3 at a time\n",
        "\n",
        "for i in RNAwhale: #goes through the entire RNA sequence\n",
        "    if len(codon) == 3: #in the case that the codon has 3 characters....\n",
        "        proteinwhale += codonDict[codon] #matches the codon(key) with the amino acid(value), and appends it to the proteinA string\n",
        "        codon = \"\" #empties out the codon so we can move to the next block of 3\n",
        "        codon += i #takes i into account before moving on to next iteration.  \n",
        "    else:\n",
        "        codon += i\n"
      ],
      "execution_count": null,
      "outputs": []
    },
    {
      "cell_type": "code",
      "metadata": {
        "id": "GiFu9iB_PMQ5",
        "colab_type": "code",
        "colab": {}
      },
      "source": [
        "proteinhippo = \"\"\n",
        "codon = \"\"\n",
        "\n",
        "for i in RNAhippo:\n",
        "    if len(codon) == 3:\n",
        "        proteinhippo += codonDict[codon]\n",
        "        codon = \"\"\n",
        "        codon += i\n",
        "    else:\n",
        "        codon += i"
      ],
      "execution_count": null,
      "outputs": []
    },
    {
      "cell_type": "code",
      "metadata": {
        "id": "cCfpiF_rRmVE",
        "colab_type": "code",
        "colab": {}
      },
      "source": [
        "proteinboar = \"\"\n",
        "codon = \"\"\n",
        "\n",
        "for i in RNAboar:\n",
        "    if len(codon) == 3:\n",
        "        proteinboar += codonDict[codon]\n",
        "        codon = \"\"\n",
        "        codon += i\n",
        "    else:\n",
        "        codon += i"
      ],
      "execution_count": null,
      "outputs": []
    },
    {
      "cell_type": "code",
      "metadata": {
        "id": "QXIvCAlpPMxo",
        "colab_type": "code",
        "colab": {
          "base_uri": "https://localhost:8080/",
          "height": 70
        },
        "outputId": "3ccd91df-663c-4032-ff3f-374b40e86b20"
      },
      "source": [
        "print(proteinwhale)\n",
        "print(proteinhippo)\n",
        "print(proteinboar)"
      ],
      "execution_count": null,
      "outputs": [
        {
          "output_type": "stream",
          "text": [
            "LGVSIPLIGRIRISLREGISTOPRSSGKSTOPLSVSDGESTOPLELLDVEGDRDEVRNYVVGGVGEGGWGYKGGVGDGRERVGFQDGSTOPGVVHHGVSTOPVSVYGSTOP\n",
            "SGVSFPLIGRIRISLREEISTOPRSSREMTFRLGLRMTRTFRREGDGDEVRTYVGEGSEKEDGSTKEESGTSGKVSGKESGFGTDKGSFTMGWVSL\n",
            "SGVSTOPQVLNSTOPPVSTOPSYCFRSTOPLYYHVFVIETYPSTOPSGFSNKINSYLYTFLQVMVIKRPFTFNFYGLSTOPYCVGGLIDFTLLNHFGSSTOPMFLFVSTOPLIYDPL\n"
          ],
          "name": "stdout"
        }
      ]
    },
    {
      "cell_type": "code",
      "metadata": {
        "id": "Gy8-66-tPNF3",
        "colab_type": "code",
        "colab": {
          "base_uri": "https://localhost:8080/",
          "height": 34
        },
        "outputId": "1b7af07b-4adb-42ba-ff6b-b30cf2845f9b"
      },
      "source": [
        "#hippo to whale protein\n",
        "similar = 0 #stores the number of similarities\n",
        "for counter, valuehippo in enumerate(proteinhippo): \n",
        "  valuewhale = proteinwhale[counter]\n",
        "  if valuewhale == valuehippo:\n",
        "    similar += 1\n",
        "\n",
        "\n",
        "print(similar)"
      ],
      "execution_count": null,
      "outputs": [
        {
          "output_type": "stream",
          "text": [
            "35\n"
          ],
          "name": "stdout"
        }
      ]
    },
    {
      "cell_type": "markdown",
      "metadata": {
        "id": "IItLqYLihRf6",
        "colab_type": "text"
      },
      "source": [
        "## **DnA PERCENt**"
      ]
    },
    {
      "cell_type": "code",
      "metadata": {
        "id": "Edh_tgJYPNdu",
        "colab_type": "code",
        "colab": {
          "base_uri": "https://localhost:8080/",
          "height": 34
        },
        "outputId": "bbbd0982-f9cd-4223-f607-ec722d96a5d9"
      },
      "source": [
        "#hippo to whale dna\n",
        "\n",
        "similardna = 0 #stores the number of similarities\n",
        "for counter, valuehippo in enumerate(hippo): \n",
        "  valuewhale = whale[counter]\n",
        "  if valuewhale == valuehippo:\n",
        "    similardna += 1\n",
        " \n",
        "\n",
        "print(similardna)"
      ],
      "execution_count": null,
      "outputs": [
        {
          "output_type": "stream",
          "text": [
            "145\n"
          ],
          "name": "stdout"
        }
      ]
    },
    {
      "cell_type": "code",
      "metadata": {
        "id": "F2hWiGC6eXFK",
        "colab_type": "code",
        "colab": {
          "base_uri": "https://localhost:8080/",
          "height": 34
        },
        "outputId": "fdf25c07-272e-479e-89e6-4fad455c21a5"
      },
      "source": [
        "#boar to whale dna\n",
        "\n",
        "similardna = 0 #stores the number of similarities\n",
        "for counter, valuewhale in enumerate(whale): \n",
        "  valueboar = boar[counter]\n",
        "  if valueboar == valuewhale:\n",
        "    similardna += 1\n",
        " \n",
        "print(similardna)"
      ],
      "execution_count": null,
      "outputs": [
        {
          "output_type": "stream",
          "text": [
            "70\n"
          ],
          "name": "stdout"
        }
      ]
    },
    {
      "cell_type": "code",
      "metadata": {
        "id": "tWT8m7sxf5kK",
        "colab_type": "code",
        "colab": {
          "base_uri": "https://localhost:8080/",
          "height": 34
        },
        "outputId": "5cf793e2-5bcf-4b95-8eaf-68e576349404"
      },
      "source": [
        "#boar to hippo dna\n",
        "\n",
        "similardna = 0 #stores the number of similarities\n",
        "for counter, valuehippo in enumerate(hippo): \n",
        "  valueboar = boar[counter]\n",
        "  if valueboar == valuehippo:\n",
        "    similardna += 1\n",
        " \n",
        "\n",
        "print(similardna)"
      ],
      "execution_count": null,
      "outputs": [
        {
          "output_type": "stream",
          "text": [
            "69\n"
          ],
          "name": "stdout"
        }
      ]
    },
    {
      "cell_type": "code",
      "metadata": {
        "id": "KuIRplFDdeQ9",
        "colab_type": "code",
        "colab": {
          "base_uri": "https://localhost:8080/",
          "height": 70
        },
        "outputId": "efce25f4-817d-4209-ee7d-460791ffc151"
      },
      "source": [
        "percenthtw = 145*100/(len(hippo))\n",
        "print(percenthtw)\n",
        "percentbtw = 70*100/(len(whale))\n",
        "print(percentbtw)\n",
        "percentbth = 69*100/(len(hippo))\n",
        "print(percentbth)\n"
      ],
      "execution_count": null,
      "outputs": [
        {
          "output_type": "stream",
          "text": [
            "51.785714285714285\n",
            "24.91103202846975\n",
            "24.642857142857142\n"
          ],
          "name": "stdout"
        }
      ]
    },
    {
      "cell_type": "markdown",
      "metadata": {
        "id": "62t1O_j-NjDS",
        "colab_type": "text"
      },
      "source": [
        "## Bonus Challenge\n",
        "\n",
        "Visualize your results! Choose a graph type that you think will communicate your conclusions effectively and create it using matplotlib:"
      ]
    },
    {
      "cell_type": "code",
      "metadata": {
        "id": "au9WtKMdNjDT",
        "colab_type": "code",
        "colab": {
          "base_uri": "https://localhost:8080/",
          "height": 312
        },
        "outputId": "09ec99c0-2e49-4158-e6ee-4cd0ea7d7685"
      },
      "source": [
        "import matplotlib.pyplot as plt\n",
        "#boar to whale\n",
        "\n",
        "plt.bar([1,2,3],[percentbtw,percenthtw,percentbth], color =[\"blue\", \"pink\",\"purple\"])\n",
        "plt.xticks([1,2,3], [\"Boar to Whale\", \"hippo to whale\", \"boar to hippo\"])\n",
        "plt.xlabel(\"Animals\")\n",
        "plt.ylabel(\"Similarity Percentage\")\n",
        "plt.title(\"Comparing DNA SImilarity\")\n",
        "plt.scatter([],[], color = \"blue\", label = \"25%\")\n",
        "plt.scatter([],[], color = \"pink\", label = \"52%\")\n",
        "plt.scatter([],[], color = \"purple\", label = \"25%\")\n",
        "plt.legend(bbox_to_anchor=[1.0,1.0])\n",
        "plt.show\n"
      ],
      "execution_count": null,
      "outputs": [
        {
          "output_type": "execute_result",
          "data": {
            "text/plain": [
              "<function matplotlib.pyplot.show>"
            ]
          },
          "metadata": {
            "tags": []
          },
          "execution_count": 18
        },
        {
          "output_type": "display_data",
          "data": {
            "image/png": "[encoded data removed]",
            "text/plain": [
              "<Figure size 432x288 with 1 Axes>"
            ]
          },
          "metadata": {
            "tags": [],
            "needs_background": "light"
          }
        }
      ]
    },
    {
      "cell_type": "markdown",
      "metadata": {
        "id": "I_K9S0FvNjDX",
        "colab_type": "text"
      },
      "source": [
        "## Bonus Challenge 2\n",
        "If you finish your project and want to try a challenge, come up with a hypothesis about which of the following species are most closely related to humans (carp, chicken, chimp, dog, eel, elephant, frog, gorilla, macaque monkey, mouse, orangutan, pig). Write out a ranked list with the species you think is most related to humans at the top.\n",
        "\n",
        "Then calculate the percent difference between the hemoglobin amino acid sequences of humans and each species to find out how close you came to the right ranking!"
      ]
    },
    {
      "cell_type": "code",
      "metadata": {
        "id": "UVe4Av-CNjDZ",
        "colab_type": "code",
        "colab": {}
      },
      "source": [
        ""
      ],
      "execution_count": null,
      "outputs": []
    }
  ]
}